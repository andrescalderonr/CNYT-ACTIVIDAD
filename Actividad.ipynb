{
 "cells": [
  {
   "cell_type": "markdown",
   "metadata": {},
   "source": [
    "# Simule el primer sistema cuantico descrito en la seccion 4.1.\n",
    "## 1. El sistema debe calcular la probabilidad de encontrarlo en una posición en particular."
   ]
  },
  {
   "cell_type": "code",
   "execution_count": 2,
   "metadata": {},
   "outputs": [
    {
     "name": "stdout",
     "output_type": "stream",
     "text": [
      "[0.52631579] En: [-3.-1.j]\n",
      "[0.21052632] En: [-0.-2.j]\n",
      "[0.05263158] En: [0.+1.j]\n",
      "[0.21052632] En: [2.+0.j]\n"
     ]
    },
    {
     "name": "stderr",
     "output_type": "stream",
     "text": [
      "C:\\Users\\LENOVO\\AppData\\Local\\Temp\\ipykernel_22564\\2334856496.py:7: DeprecationWarning: Conversion of an array with ndim > 0 to a scalar is deprecated, and will error in future. Ensure you extract a single element from your array before performing this operation. (Deprecated NumPy 1.25.)\n",
      "  norm = math.sqrt(divisor)\n"
     ]
    }
   ],
   "source": [
    "import numpy as np\n",
    "import math\n",
    "initial_vector = np.array([[-3-1j],[-2j],[1j],[2]])\n",
    "divisor = 0\n",
    "for i in initial_vector:\n",
    "    divisor+=abs(i)**2\n",
    "norm = math.sqrt(divisor)\n",
    "for j in initial_vector:\n",
    "    prob= abs(j)**2 / norm**2\n",
    "    print(prob,'En:',j)\n",
    "\n"
   ]
  },
  {
   "cell_type": "markdown",
   "metadata": {},
   "source": [
    "## 2. El sistema si se le da otro vector Ket debe buscar la probabilidad de transitar del primer vector al segundo."
   ]
  },
  {
   "cell_type": "code",
   "execution_count": 5,
   "metadata": {},
   "outputs": [
    {
     "name": "stdout",
     "output_type": "stream",
     "text": [
      "-0.9999999999999998j\n",
      "0.9999999999999996\n"
     ]
    }
   ],
   "source": [
    "initial = np.array([[1],[-1j]])\n",
    "final = np.array([[1j],[1]])\n",
    "complex_internal_product_vector = np.vdot(final, initial)\n",
    "norm_initial = np.linalg.norm(initial)\n",
    "norm_final = np.linalg.norm(final)\n",
    "amplitude = complex_internal_product_vector/ (norm_initial*norm_final)\n",
    "probability = np.abs(amplitude)**2\n",
    "print(amplitude)\n",
    "print(probability)\n"
   ]
  },
  {
   "cell_type": "markdown",
   "metadata": {},
   "source": [
    "# Complete los retos de programación del capítulo 4.\n",
    "## 1. Amplitud de transición. El sistema puede recibir dos vectores y calcular la probabilidad de transitar de el uno al otro después de hacer la observación\n",
    "\n"
   ]
  },
  {
   "cell_type": "code",
   "execution_count": 4,
   "metadata": {},
   "outputs": [
    {
     "name": "stdout",
     "output_type": "stream",
     "text": [
      "-0.9999999999999998j\n",
      "0.9999999999999996\n"
     ]
    }
   ],
   "source": [
    "initial = np.array([[1],[-1j]])\n",
    "final = np.array([[1j],[1]])\n",
    "complex_internal_product_vector = np.vdot(final, initial)\n",
    "norm_initial = np.linalg.norm(initial)\n",
    "norm_final = np.linalg.norm(final)\n",
    "amplitude = complex_internal_product_vector/ (norm_initial*norm_final)\n",
    "probability = np.abs(amplitude)**2\n",
    "print(amplitude)\n",
    "print(probability)\n"
   ]
  },
  {
   "cell_type": "markdown",
   "metadata": {},
   "source": [
    "## 2. Ahora con una matriz que describa un observable y un vector ket, el sistema revisa que la matriz sea hermitiana, y si lo es, calcula la media y la varianza del observable en el estado dado.\n",
    "\n"
   ]
  },
  {
   "cell_type": "code",
   "execution_count": 5,
   "metadata": {},
   "outputs": [
    {
     "name": "stdout",
     "output_type": "stream",
     "text": [
      "Es hermtiana\n",
      "La media es: (2.5000000000000004+0j)\n",
      "(0.25+0j)\n"
     ]
    }
   ],
   "source": [
    "matrix = np.array([[1,-1j],[1j,2]])\n",
    "ket = np.array([[math.sqrt(2)/2],[(math.sqrt(2)/2)*1j]])\n",
    "hermitian = matrix.conj().T\n",
    "if np.allclose(matrix, hermitian):\n",
    "    print(\"Es hermtiana\")\n",
    "    mult = np.dot(matrix,ket)\n",
    "    mult2 = np.vdot(mult,ket)\n",
    "    print(\"La media es:\",mult2)\n",
    "    m = np.array([[mult2,0],[0,mult2]])\n",
    "    resta = matrix - m\n",
    "    multi2 = np.dot(resta,resta)\n",
    "    final1 = np.dot(multi2,ket)\n",
    "    final2 = np.vdot(ket,final1)\n",
    "    print(final2)\n",
    "else:\n",
    "    print(\"La matriz no es hermitiana\")"
   ]
  },
  {
   "cell_type": "markdown",
   "metadata": {},
   "source": [
    "## 3. El sistema calcula los valores propios del observable y la probabilidad de que el sistema transite a alguno de los vectores propios después de la observación."
   ]
  },
  {
   "cell_type": "code",
   "execution_count": 6,
   "metadata": {},
   "outputs": [
    {
     "name": "stdout",
     "output_type": "stream",
     "text": [
      "Es hermtiana\n",
      "Valores propios: [0.38196601+0.j 2.61803399+0.j]\n",
      "Probabilidad de transitar al vector propio 1: 0.052786404500042135\n",
      "Probabilidad de transitar al vector propio 2: 0.9472135954999582\n"
     ]
    }
   ],
   "source": [
    "matrix = np.array([[1,-1j],[1j,2]])\n",
    "ket = np.array([[math.sqrt(2)/2],[(math.sqrt(2)/2)*1j]])\n",
    "hermitian = matrix.conj().T\n",
    "if np.allclose(matrix, hermitian):\n",
    "    print(\"Es hermtiana\")\n",
    "    valores_propios,vectores_propios = np.linalg.eig(matrix)\n",
    "    print(\"Valores propios:\",valores_propios)\n",
    "    for i in range(len(valores_propios)):\n",
    "        vector_propio = vectores_propios[:, i].reshape(-1, 1)  \n",
    "        probabilidad = np.abs(np.vdot(ket, vector_propio))**2\n",
    "        print(f\"Probabilidad de transitar al vector propio {i + 1}: {probabilidad}\")\n",
    "else:\n",
    "    print(\"No es hermitiana\")"
   ]
  },
  {
   "cell_type": "markdown",
   "metadata": {},
   "source": [
    "## 4. Se considera la dinámica del sistema. Ahora con una serie de matrices Un el sistema calcula el estado final a partir de un estado inicial.\n",
    "\n"
   ]
  },
  {
   "cell_type": "code",
   "execution_count": 7,
   "metadata": {},
   "outputs": [
    {
     "name": "stdout",
     "output_type": "stream",
     "text": [
      "Estado final:\n",
      "[[7.07106781e-01+0.j        ]\n",
      " [4.32978028e-17+0.70710678j]]\n"
     ]
    }
   ],
   "source": [
    "estado_inicial = np.array([[1], [0]])  \n",
    "\n",
    "U1 = np.array([[np.cos(np.pi/4), -np.sin(np.pi/4)], [np.sin(np.pi/4), np.cos(np.pi/4)]])  \n",
    "U2 = np.array([[1, 0], [0, np.exp(1j * np.pi / 2)]])  \n",
    "\n",
    "matrices_U = [U1, U2]\n",
    "\n",
    "estado_final = estado_inicial\n",
    "for U in matrices_U:\n",
    "    estado_final = np.dot(U, estado_final)\n",
    "\n",
    "print(\"Estado final:\")\n",
    "print(estado_final)"
   ]
  },
  {
   "cell_type": "markdown",
   "metadata": {},
   "source": [
    "# Realice los siguientes problemas e incluyalos como ejemplos\n"
   ]
  },
  {
   "cell_type": "markdown",
   "metadata": {},
   "source": [
    "## 4.3.1: Find all the possible states the system described in Exercise 4.2.2 can transition into after a measurement has been carried out"
   ]
  },
  {
   "cell_type": "markdown",
   "metadata": {},
   "source": [
    "## 4.2.2: Consider a particle in initial spin up. Apply Sx to it and determine the probability that the resulting state is still spin up."
   ]
  },
  {
   "cell_type": "code",
   "execution_count": 23,
   "metadata": {},
   "outputs": [
    {
     "name": "stdout",
     "output_type": "stream",
     "text": [
      "[[0.16987179]\n",
      " [0.08012821]]\n",
      "Probabilidad de transición a |uparrow_x⟩: [[0.32051282]]\n",
      "Probabilidad de transición a |downarrow_x⟩: [[0.67948718]]\n"
     ]
    }
   ],
   "source": [
    "#4.2.2:\n",
    "observable = 0.5* np.array([[0, 1],[1, 0]])\n",
    "ket = np.array([[3-4j],[7+2j]])\n",
    "n = np.dot(observable,ket)\n",
    "length_ket= np.linalg.norm(ket)\n",
    "result = np.abs(n)**2 / length_ket**2\n",
    "print(result)\n",
    "#4.3.1:\n",
    "up_x = np.array([[1], [0]])  \n",
    "down_x = np.array([[0], [1]])  \n",
    "P_up_x = np.abs(np.dot(up_x.conj().T, ket))**2 / length_ket**2\n",
    "P_down_x = np.abs(np.dot(down_x.conj().T, ket))**2 / length_ket**2\n",
    "print(\"Probabilidad de transición a |uparrow_x⟩:\", P_up_x)\n",
    "print(\"Probabilidad de transición a |downarrow_x⟩:\", P_down_x)"
   ]
  },
  {
   "cell_type": "markdown",
   "metadata": {},
   "source": [
    "# 4.3.2 Perform the same calculations as in the last example, using Exercise 4.3.1. Then draw the probability distribution of the eigenvalues as in the previous example"
   ]
  },
  {
   "cell_type": "code",
   "execution_count": 24,
   "metadata": {},
   "outputs": [
    {
     "name": "stdout",
     "output_type": "stream",
     "text": [
      "[[13.+0.j]]\n"
     ]
    }
   ],
   "source": [
    "observable = 0.5* np.array([[0, 1],[1, 0]])\n",
    "ket = np.array([[3-4j],[7+2j]])\n",
    "n = np.dot(observable,ket)\n",
    "\n",
    "expectation_value = np.dot(ket.conj().T, np.dot(observable, ket))\n",
    "print(expectation_value)"
   ]
  },
  {
   "cell_type": "markdown",
   "metadata": {},
   "source": [
    "# 4.4.1 Verificar que u1 y u2 son unitarias."
   ]
  },
  {
   "cell_type": "code",
   "execution_count": 17,
   "metadata": {},
   "outputs": [
    {
     "name": "stdout",
     "output_type": "stream",
     "text": [
      "Matriz u1 es unitaria\n",
      "Matriz u2 es unitaria\n"
     ]
    }
   ],
   "source": [
    "u1 = np.array(([1,0],[0,1]))\n",
    "u2 = np.array(([math.sqrt(2)/2,math.sqrt(2)/2],[math.sqrt(2)/2,-math.sqrt(2)/2]))\n",
    "unitari = np.array(([1,0],[0,1]))\n",
    "test1 = np.dot(u1.conj().T,u1)\n",
    "test2 = np.dot(u2.conj().T,u2)\n",
    "if np.allclose(unitari,test1):\n",
    "    print(\"Matriz u1 es unitaria\")\n",
    "else:\n",
    "    print(\"Matriz u1 no es unitaria\")\n",
    "\n",
    "if np.allclose(unitari,test2):\n",
    "    print(\"Matriz u2 es unitaria\")\n",
    "else:\n",
    "    print(\"Matriz u2 no es unitaria\")\n",
    "\n",
    "\n",
    "\n"
   ]
  },
  {
   "cell_type": "markdown",
   "metadata": {},
   "source": [
    "# 4.4.2: Go back to Example 3.3.2 (quantum billiard ball), keep the same initial state vector [1, 0, 0, 0]T, but change the unitary map , Determine the state of the system after three time steps. What is the chance of the quantum ball to be found at point 3? "
   ]
  },
  {
   "cell_type": "code",
   "execution_count": 21,
   "metadata": {},
   "outputs": [
    {
     "name": "stdout",
     "output_type": "stream",
     "text": [
      "[[0.        ]\n",
      " [1.41421356]\n",
      " [1.41421356]\n",
      " [0.        ]]\n",
      "[0.] En: [0.]\n",
      "[0.08695652] En: [1.41421356]\n",
      "[0.08695652] En: [1.41421356]\n",
      "[0.] En: [0.]\n"
     ]
    },
    {
     "name": "stderr",
     "output_type": "stream",
     "text": [
      "C:\\Users\\LENOVO\\AppData\\Local\\Temp\\ipykernel_22564\\3224189952.py:12: DeprecationWarning: Conversion of an array with ndim > 0 to a scalar is deprecated, and will error in future. Ensure you extract a single element from your array before performing this operation. (Deprecated NumPy 1.25.)\n",
      "  norm = math.sqrt(divisor)\n"
     ]
    }
   ],
   "source": [
    "unitary_map = np.array(([0,1/math.sqrt(2),1/math.sqrt(2),0],\n",
    "    [1/math.sqrt(2),0,0,1/math.sqrt(2)],\n",
    "    [1/math.sqrt(2),0,0,1/math.sqrt(2)],\n",
    "    [0,1/math.sqrt(2),1/math.sqrt(2),0]))\n",
    "vector=np.array([[1],[0],[0],[0]])\n",
    "ae1 = np.dot(unitary_map,vector)\n",
    "ae2 = np.dot(unitary_map,ae1)\n",
    "ae3 = np.dot(unitary_map,ae2)\n",
    "print(ae3)\n",
    "for i in ae3:\n",
    "    divisor+=abs(i)**2\n",
    "norm = math.sqrt(divisor)\n",
    "for j in ae3:\n",
    "    prob= abs(j)**2 / norm**2\n",
    "    print(prob,'En:',j)\n",
    "\n"
   ]
  },
  {
   "cell_type": "code",
   "execution_count": null,
   "metadata": {},
   "outputs": [],
   "source": []
  }
 ],
 "metadata": {
  "kernelspec": {
   "display_name": "Python 3",
   "language": "python",
   "name": "python3"
  },
  "language_info": {
   "codemirror_mode": {
    "name": "ipython",
    "version": 3
   },
   "file_extension": ".py",
   "mimetype": "text/x-python",
   "name": "python",
   "nbconvert_exporter": "python",
   "pygments_lexer": "ipython3",
   "version": "3.11.9"
  }
 },
 "nbformat": 4,
 "nbformat_minor": 2
}
